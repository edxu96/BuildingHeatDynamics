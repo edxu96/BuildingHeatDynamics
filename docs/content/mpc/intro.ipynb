{
 "cells": [
  {
   "cell_type": "markdown",
   "metadata": {},
   "source": [
    "# Introduction to Model Predictive Control"
   ]
  },
  {
   "cell_type": "code",
   "execution_count": 8,
   "metadata": {},
   "outputs": [],
   "source": [
    "rm(list = ls())"
   ]
  },
  {
   "cell_type": "code",
   "execution_count": 9,
   "metadata": {},
   "outputs": [
    {
     "name": "stderr",
     "output_type": "stream",
     "text": [
      "Warning message:\n",
      "“package ‘tibble’ was built under R version 3.5.2”── \u001b[1mAttaching packages\u001b[22m ─────────────────────────────────────── tidyverse 1.2.1 ──\n",
      "\u001b[32m✔\u001b[39m \u001b[34mggplot2\u001b[39m 3.1.1     \u001b[32m✔\u001b[39m \u001b[34mpurrr  \u001b[39m 0.3.2\n",
      "\u001b[32m✔\u001b[39m \u001b[34mtidyr  \u001b[39m 0.8.3     \u001b[32m✔\u001b[39m \u001b[34mdplyr  \u001b[39m 0.8.3\n",
      "\u001b[32m✔\u001b[39m \u001b[34mreadr  \u001b[39m 1.3.0     \u001b[32m✔\u001b[39m \u001b[34mstringr\u001b[39m 1.4.0\n",
      "\u001b[32m✔\u001b[39m \u001b[34mggplot2\u001b[39m 3.1.1     \u001b[32m✔\u001b[39m \u001b[34mforcats\u001b[39m 0.3.0\n",
      "Warning message:\n",
      "“package ‘ggplot2’ was built under R version 3.5.2”Warning message:\n",
      "“package ‘tidyr’ was built under R version 3.5.2”Warning message:\n",
      "“package ‘purrr’ was built under R version 3.5.2”Warning message:\n",
      "“package ‘dplyr’ was built under R version 3.5.2”Warning message:\n",
      "“package ‘stringr’ was built under R version 3.5.2”── \u001b[1mConflicts\u001b[22m ────────────────────────────────────────── tidyverse_conflicts() ──\n",
      "\u001b[31m✖\u001b[39m \u001b[34mreadr\u001b[39m::\u001b[32mcol_factor()\u001b[39m masks \u001b[34mscales\u001b[39m::col_factor()\n",
      "\u001b[31m✖\u001b[39m \u001b[34mpurrr\u001b[39m::\u001b[32mdiscard()\u001b[39m    masks \u001b[34mscales\u001b[39m::discard()\n",
      "\u001b[31m✖\u001b[39m \u001b[34mdplyr\u001b[39m::\u001b[32mfilter()\u001b[39m     masks \u001b[34mstats\u001b[39m::filter()\n",
      "\u001b[31m✖\u001b[39m \u001b[34mdplyr\u001b[39m::\u001b[32mlag()\u001b[39m        masks \u001b[34mstats\u001b[39m::lag()\n"
     ]
    }
   ],
   "source": [
    "library(MatrixTSA)\n",
    "library(tibble)\n",
    "library(tidyverse)\n",
    "options(tibble.width = Inf)"
   ]
  },
  {
   "cell_type": "code",
   "execution_count": 11,
   "metadata": {},
   "outputs": [],
   "source": [
    "setwd(\"~/GitHub/MatrixTSA\")\n",
    "source(\"./examples/MPC/src/asHours.R\")\n",
    "source(\"./examples/MPC/src/asP.R\")\n",
    "source(\"./examples/MPC/src/prbs.R\")\n",
    "source(\"./examples/MPC/src/sim_building.R\")"
   ]
  },
  {
   "cell_type": "code",
   "execution_count": 20,
   "metadata": {
    "collapsed": false
   },
   "outputs": [
    {
     "name": "stderr",
     "output_type": "stream",
     "text": [
      "Parsed with column specification:\n",
      "cols(\n",
      "  timedate = col_datetime(format = \"\"),\n",
      "  Y1 = col_double(),\n",
      "  Y2 = col_double(),\n",
      "  Ta = col_double(),\n",
      "  Gv = col_double(),\n",
      "  Ph1 = col_double(),\n",
      "  Ph2 = col_double()\n",
      ")\n"
     ]
    }
   ],
   "source": [
    "ti <- read_csv(\n",
    "  \"./data/data_mpc.csv\",\n",
    "  skip = 1,\n",
    "  col_names = c(\"timedate\", \"Y1\", \"Y2\", \"Ta\", \"Gv\", \"Ph1\", \"Ph2\")\n",
    ")\n",
    "ti <- ti %>%\n",
    "  mutate(timedate = asP(.$timedate)) %>%\n",
    "  mutate(t = asHours(.$timedate - .$timedate[1]))"
   ]
  },
  {
   "cell_type": "markdown",
   "metadata": {},
   "source": [
    "The grammar rules of a programming language are rigid. In Python, the `*` symbol cannot appear twice in a row. The computer will not try to interpret an expression that differs from its prescribed expression structures. Instead, it will show a `SyntaxError` error. The *Syntax* of a language is its set of grammar rules, and a `SyntaxError` indicates that an expression structure doesn't match any of the rules of the language."
   ]
  },
  {
   "cell_type": "code",
   "execution_count": 21,
   "metadata": {
    "collapsed": false
   },
   "outputs": [
    {
     "name": "stderr",
     "output_type": "stream",
     "text": [
      "Warning message in eval(expr, envir, enclos):\n",
      "“internal error -3 in R_decompress1”"
     ]
    },
    {
     "ename": "ERROR",
     "evalue": "Error in eval(expr, envir, enclos): lazy-load database '/Library/Frameworks/R.framework/Versions/3.5/Resources/library/MatrixTSA/R/MatrixTSA.rdb' is corrupt\n",
     "output_type": "error",
     "traceback": [
      "Error in eval(expr, envir, enclos): lazy-load database '/Library/Frameworks/R.framework/Versions/3.5/Resources/library/MatrixTSA/R/MatrixTSA.rdb' is corrupt\nTraceback:\n"
     ]
    }
   ],
   "source": [
    "ti_est <- tibble(\n",
    "  name = c(\n",
    "    \"T1a0\", \"T1m0\", \"C1a\", \"C1m\", \"R1a\",\n",
    "    \"R1m\", \"A1w\", \"p1\", \"p1a\", \"p1m\", \"e11\"\n",
    "  ),\n",
    "  init = c(25, 25, 6, 12, 10, 1, 1, 0.5, 1, 1, -1),\n",
    "  lb = c(0, 0, 1E-5, 1, 1, 1E-10, 1E-10, 0, -30, -30, -50),\n",
    "  up = c(35, 35, 20, 50, 80, 10, 10, 1, 10, 10, 10)\n",
    ")\n",
    "li_mod <- list()\n",
    "li_mod[[1]] <- set_mod_ctsm(\n",
    "  c_expr_sys = c(\n",
    "    d(T1a) ~ (1 / (C1a * R1m) * (T1m - T1a) + 1 / (C1a * R1a) * (Ta - T1a) + 1 / C1a * Ph1 + p1 * A1w / C1a * Gv) * d(t) + exp(p1a) / C1a * d(w1a),\n",
    "    d(T1m) ~ (1 / (C1m * R1m) * (T1a - T1m) + (1 - p1) * A1w / C1m * Gv) * d(t) + exp(p1m) / C1m * d(w1m)\n",
    "  ),\n",
    "  expr_obs = Y1 ~ T1a,\n",
    "  expr_var = Y1 ~ exp(e11),\n",
    "  c_input = c(\"Ta\", \"Ph1\", \"Gv\"),\n",
    "  ti_est = ti_est\n",
    ")"
   ]
  },
  {
   "cell_type": "markdown",
   "metadata": {},
   "source": [
    "Small changes to an expression can change its meaning entirely. Below, the space between the `*`'s has been removed. Because `**` appears between two numerical expressions, the expression is a well-formed *exponentiation* expression (the first number raised to the power of the second: 3 times 3 times 3 times 3). The symbols `*` and `**` are called *operators*, and the values they combine are called *operands*."
   ]
  },
  {
   "cell_type": "code",
   "execution_count": 5,
   "metadata": {
    "collapsed": false
   },
   "outputs": [
    {
     "data": {
      "text/plain": [
       "81"
      ]
     },
     "execution_count": 5,
     "metadata": {},
     "output_type": "execute_result"
    }
   ],
   "source": [
    "3 ** 4"
   ]
  },
  {
   "cell_type": "markdown",
   "metadata": {},
   "source": [
    "**Common Operators.** Data science often involves combining numerical values, and the set of operators in a programming language are designed to so that expressions can be used to express any sort of arithmetic. In Python, the following operators are essential.\n",
    "\n",
    "| Expression Type | Operator | Example    | Value     |\n",
    "|-----------------|----------|------------|-----------|\n",
    "| Addition        | `+`      | `2 + 3`    | `5`       |\n",
    "| Subtraction     | `-`      | `2 - 3`    | `-1`      |\n",
    "| Multiplication  | `*`      | `2 * 3`    | `6`       |\n",
    "| Division        | `/`      | `7 / 3`    | `2.66667` |\n",
    "| Remainder       | `%`      | `7 % 3`    | `1`       |\n",
    "| Exponentiation  | `**`     | `2 ** 0.5` | `1.41421` |"
   ]
  },
  {
   "cell_type": "markdown",
   "metadata": {},
   "source": [
    "Python expressions obey the same familiar rules of *precedence* as in algebra: multiplication and division occur before addition and subtraction. Parentheses can be used to group together smaller expressions within a larger expression."
   ]
  },
  {
   "cell_type": "code",
   "execution_count": 4,
   "metadata": {
    "collapsed": false
   },
   "outputs": [
    {
     "data": {
      "text/plain": [
       "17.555555555555557"
      ]
     },
     "execution_count": 4,
     "metadata": {},
     "output_type": "execute_result"
    }
   ],
   "source": [
    "1 + 2 * 3 * 4 * 5 / 6 ** 3 + 7 + 8 - 9 + 10"
   ]
  },
  {
   "cell_type": "code",
   "execution_count": 3,
   "metadata": {
    "collapsed": false
   },
   "outputs": [
    {
     "data": {
      "text/plain": [
       "2017.0"
      ]
     },
     "execution_count": 3,
     "metadata": {},
     "output_type": "execute_result"
    }
   ],
   "source": [
    "1 + 2 * (3 * 4 * 5 / 6) ** 3 + 7 + 8 - 9 + 10"
   ]
  },
  {
   "cell_type": "markdown",
   "metadata": {},
   "source": [
    "This chapter introduces many types of expressions. Learning to program involves trying out everything you learn in combination, investigating the behavior of the computer. What happens if you divide by zero? What happens if you divide twice in a row? You don't always need to ask an expert (or the Internet); many of these details can be discovered by trying them out yourself. "
   ]
  }
 ],
 "metadata": {
  "anaconda-cloud": {},
  "kernelspec": {
   "display_name": "R",
   "language": "R",
   "name": "ir"
  },
  "language_info": {
   "codemirror_mode": "r",
   "file_extension": ".r",
   "mimetype": "text/x-r-source",
   "name": "R",
   "pygments_lexer": "r",
   "version": "3.5.1"
  }
 },
 "nbformat": 4,
 "nbformat_minor": 2
}
